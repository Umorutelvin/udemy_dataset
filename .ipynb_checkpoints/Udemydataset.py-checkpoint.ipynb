{
 "cells": [
  {
   "cell_type": "code",
   "execution_count": 2,
   "id": "ea34c728",
   "metadata": {},
   "outputs": [],
   "source": [
    "import pandas as pd\n",
    "import numpy as np"
   ]
  },
  {
   "cell_type": "markdown",
   "id": "f3421180",
   "metadata": {},
   "source": [
    "## Problem statement \n",
    "  **Is there high performance on the student participation generally.**\n",
    "  \n",
    "  **Is there a preferred choice of program.**\n",
    "  \n",
    "## How to come up with the solution\n",
    "\n",
    "  **I will be able to show you how productive the program has been over the years.**\n",
    "  \n",
    "  **The preferred choice of program and why it is the prefferred choice of program.**"
   ]
  },
  {
   "cell_type": "code",
   "execution_count": 3,
   "id": "c1967964",
   "metadata": {},
   "outputs": [],
   "source": [
    "udemy_df = pd.read_csv('Class assignment.csv')"
   ]
  },
  {
   "cell_type": "code",
   "execution_count": 4,
   "id": "29b5b627",
   "metadata": {},
   "outputs": [
    {
     "data": {
      "text/html": [
       "<div>\n",
       "<style scoped>\n",
       "    .dataframe tbody tr th:only-of-type {\n",
       "        vertical-align: middle;\n",
       "    }\n",
       "\n",
       "    .dataframe tbody tr th {\n",
       "        vertical-align: top;\n",
       "    }\n",
       "\n",
       "    .dataframe thead th {\n",
       "        text-align: right;\n",
       "    }\n",
       "</style>\n",
       "<table border=\"1\" class=\"dataframe\">\n",
       "  <thead>\n",
       "    <tr style=\"text-align: right;\">\n",
       "      <th></th>\n",
       "      <th>course_id</th>\n",
       "      <th>course_title</th>\n",
       "      <th>url</th>\n",
       "      <th>price</th>\n",
       "      <th>num_subscribers</th>\n",
       "      <th>num_reviews</th>\n",
       "      <th>num_lectures</th>\n",
       "      <th>level</th>\n",
       "      <th>Rating</th>\n",
       "      <th>content_duration</th>\n",
       "      <th>published_timestamp</th>\n",
       "      <th>subject</th>\n",
       "    </tr>\n",
       "  </thead>\n",
       "  <tbody>\n",
       "    <tr>\n",
       "      <th>0</th>\n",
       "      <td>19421</td>\n",
       "      <td>Free Beginner Electric Guitar Lessons</td>\n",
       "      <td>https://www.udemy.com/beginner-electric-guitar...</td>\n",
       "      <td>0</td>\n",
       "      <td>101154</td>\n",
       "      <td>1042</td>\n",
       "      <td>95</td>\n",
       "      <td>All Levels</td>\n",
       "      <td>0.88</td>\n",
       "      <td>4.5</td>\n",
       "      <td>2012-06-15T17:00:33Z</td>\n",
       "      <td>Musical Instruments</td>\n",
       "    </tr>\n",
       "    <tr>\n",
       "      <th>1</th>\n",
       "      <td>238934</td>\n",
       "      <td>Pianoforall - Incredible New Way To Learn Pian...</td>\n",
       "      <td>https://www.udemy.com/pianoforall-incredible-n...</td>\n",
       "      <td>200</td>\n",
       "      <td>75499</td>\n",
       "      <td>7676</td>\n",
       "      <td>362</td>\n",
       "      <td>Beginner Level</td>\n",
       "      <td>0.96</td>\n",
       "      <td>30.0</td>\n",
       "      <td>2014-08-07T06:27:51Z</td>\n",
       "      <td>Musical Instruments</td>\n",
       "    </tr>\n",
       "    <tr>\n",
       "      <th>2</th>\n",
       "      <td>41884</td>\n",
       "      <td>Getting Started with Playing Guitar</td>\n",
       "      <td>https://www.udemy.com/getting-started-with-pla...</td>\n",
       "      <td>0</td>\n",
       "      <td>47652</td>\n",
       "      <td>1141</td>\n",
       "      <td>26</td>\n",
       "      <td>All Levels</td>\n",
       "      <td>0.68</td>\n",
       "      <td>4.0</td>\n",
       "      <td>2013-05-29T15:28:07Z</td>\n",
       "      <td>Musical Instruments</td>\n",
       "    </tr>\n",
       "    <tr>\n",
       "      <th>3</th>\n",
       "      <td>42271</td>\n",
       "      <td>Complete Guitar System - Beginner to Advanced</td>\n",
       "      <td>https://www.udemy.com/complete-guitar-system-b...</td>\n",
       "      <td>145</td>\n",
       "      <td>32935</td>\n",
       "      <td>2713</td>\n",
       "      <td>310</td>\n",
       "      <td>All Levels</td>\n",
       "      <td>0.65</td>\n",
       "      <td>34.0</td>\n",
       "      <td>2013-05-29T15:24:47Z</td>\n",
       "      <td>Musical Instruments</td>\n",
       "    </tr>\n",
       "    <tr>\n",
       "      <th>4</th>\n",
       "      <td>26956</td>\n",
       "      <td>Learn Guitar in 21 Days</td>\n",
       "      <td>https://www.udemy.com/learn-guitar-in-21-days/</td>\n",
       "      <td>20</td>\n",
       "      <td>26504</td>\n",
       "      <td>192</td>\n",
       "      <td>82</td>\n",
       "      <td>All Levels</td>\n",
       "      <td>0.41</td>\n",
       "      <td>2.5</td>\n",
       "      <td>2012-10-21T20:36:50Z</td>\n",
       "      <td>Musical Instruments</td>\n",
       "    </tr>\n",
       "    <tr>\n",
       "      <th>5</th>\n",
       "      <td>456284</td>\n",
       "      <td>The Professional Guitar Masterclass</td>\n",
       "      <td>https://www.udemy.com/the-professional-guitar-...</td>\n",
       "      <td>200</td>\n",
       "      <td>21701</td>\n",
       "      <td>1340</td>\n",
       "      <td>136</td>\n",
       "      <td>All Levels</td>\n",
       "      <td>0.30</td>\n",
       "      <td>9.5</td>\n",
       "      <td>2015-04-28T17:27:26Z</td>\n",
       "      <td>Musical Instruments</td>\n",
       "    </tr>\n",
       "  </tbody>\n",
       "</table>\n",
       "</div>"
      ],
      "text/plain": [
       "   course_id                                       course_title  \\\n",
       "0      19421              Free Beginner Electric Guitar Lessons   \n",
       "1     238934  Pianoforall - Incredible New Way To Learn Pian...   \n",
       "2      41884                Getting Started with Playing Guitar   \n",
       "3      42271      Complete Guitar System - Beginner to Advanced   \n",
       "4      26956                            Learn Guitar in 21 Days   \n",
       "5     456284                The Professional Guitar Masterclass   \n",
       "\n",
       "                                                 url  price  num_subscribers  \\\n",
       "0  https://www.udemy.com/beginner-electric-guitar...      0           101154   \n",
       "1  https://www.udemy.com/pianoforall-incredible-n...    200            75499   \n",
       "2  https://www.udemy.com/getting-started-with-pla...      0            47652   \n",
       "3  https://www.udemy.com/complete-guitar-system-b...    145            32935   \n",
       "4     https://www.udemy.com/learn-guitar-in-21-days/     20            26504   \n",
       "5  https://www.udemy.com/the-professional-guitar-...    200            21701   \n",
       "\n",
       "   num_reviews  num_lectures           level  Rating  content_duration  \\\n",
       "0         1042            95      All Levels    0.88               4.5   \n",
       "1         7676           362  Beginner Level    0.96              30.0   \n",
       "2         1141            26      All Levels    0.68               4.0   \n",
       "3         2713           310      All Levels    0.65              34.0   \n",
       "4          192            82      All Levels    0.41               2.5   \n",
       "5         1340           136      All Levels    0.30               9.5   \n",
       "\n",
       "    published_timestamp              subject  \n",
       "0  2012-06-15T17:00:33Z  Musical Instruments  \n",
       "1  2014-08-07T06:27:51Z  Musical Instruments  \n",
       "2  2013-05-29T15:28:07Z  Musical Instruments  \n",
       "3  2013-05-29T15:24:47Z  Musical Instruments  \n",
       "4  2012-10-21T20:36:50Z  Musical Instruments  \n",
       "5  2015-04-28T17:27:26Z  Musical Instruments  "
      ]
     },
     "execution_count": 4,
     "metadata": {},
     "output_type": "execute_result"
    }
   ],
   "source": [
    "udemy_df.head(6)"
   ]
  },
  {
   "cell_type": "code",
   "execution_count": 5,
   "id": "15ee5c13",
   "metadata": {},
   "outputs": [
    {
     "name": "stdout",
     "output_type": "stream",
     "text": [
      "<class 'pandas.core.frame.DataFrame'>\n",
      "RangeIndex: 680 entries, 0 to 679\n",
      "Data columns (total 12 columns):\n",
      " #   Column               Non-Null Count  Dtype  \n",
      "---  ------               --------------  -----  \n",
      " 0   course_id            680 non-null    int64  \n",
      " 1   course_title         680 non-null    object \n",
      " 2   url                  680 non-null    object \n",
      " 3   price                680 non-null    int64  \n",
      " 4   num_subscribers      680 non-null    int64  \n",
      " 5   num_reviews          680 non-null    int64  \n",
      " 6   num_lectures         680 non-null    int64  \n",
      " 7   level                680 non-null    object \n",
      " 8   Rating               680 non-null    float64\n",
      " 9   content_duration     680 non-null    float64\n",
      " 10  published_timestamp  680 non-null    object \n",
      " 11  subject              680 non-null    object \n",
      "dtypes: float64(2), int64(5), object(5)\n",
      "memory usage: 63.9+ KB\n"
     ]
    }
   ],
   "source": [
    "udemy_df.info()"
   ]
  },
  {
   "cell_type": "code",
   "execution_count": 6,
   "id": "474b173e",
   "metadata": {},
   "outputs": [
    {
     "data": {
      "text/html": [
       "<div>\n",
       "<style scoped>\n",
       "    .dataframe tbody tr th:only-of-type {\n",
       "        vertical-align: middle;\n",
       "    }\n",
       "\n",
       "    .dataframe tbody tr th {\n",
       "        vertical-align: top;\n",
       "    }\n",
       "\n",
       "    .dataframe thead th {\n",
       "        text-align: right;\n",
       "    }\n",
       "</style>\n",
       "<table border=\"1\" class=\"dataframe\">\n",
       "  <thead>\n",
       "    <tr style=\"text-align: right;\">\n",
       "      <th></th>\n",
       "      <th>course_id</th>\n",
       "      <th>price</th>\n",
       "      <th>num_subscribers</th>\n",
       "      <th>num_reviews</th>\n",
       "      <th>num_lectures</th>\n",
       "      <th>Rating</th>\n",
       "      <th>content_duration</th>\n",
       "    </tr>\n",
       "  </thead>\n",
       "  <tbody>\n",
       "    <tr>\n",
       "      <th>count</th>\n",
       "      <td>6.800000e+02</td>\n",
       "      <td>680.000000</td>\n",
       "      <td>680.000000</td>\n",
       "      <td>680.000000</td>\n",
       "      <td>680.000000</td>\n",
       "      <td>680.000000</td>\n",
       "      <td>680.000000</td>\n",
       "    </tr>\n",
       "    <tr>\n",
       "      <th>mean</th>\n",
       "      <td>6.386484e+05</td>\n",
       "      <td>49.558824</td>\n",
       "      <td>1245.130882</td>\n",
       "      <td>46.652941</td>\n",
       "      <td>38.316176</td>\n",
       "      <td>0.308912</td>\n",
       "      <td>2.854387</td>\n",
       "    </tr>\n",
       "    <tr>\n",
       "      <th>std</th>\n",
       "      <td>3.472305e+05</td>\n",
       "      <td>41.187592</td>\n",
       "      <td>5676.381419</td>\n",
       "      <td>337.735677</td>\n",
       "      <td>42.739700</td>\n",
       "      <td>0.303799</td>\n",
       "      <td>3.470463</td>\n",
       "    </tr>\n",
       "    <tr>\n",
       "      <th>min</th>\n",
       "      <td>1.221400e+04</td>\n",
       "      <td>0.000000</td>\n",
       "      <td>0.000000</td>\n",
       "      <td>0.000000</td>\n",
       "      <td>4.000000</td>\n",
       "      <td>0.000000</td>\n",
       "      <td>0.483333</td>\n",
       "    </tr>\n",
       "    <tr>\n",
       "      <th>25%</th>\n",
       "      <td>3.383060e+05</td>\n",
       "      <td>20.000000</td>\n",
       "      <td>31.000000</td>\n",
       "      <td>2.000000</td>\n",
       "      <td>14.000000</td>\n",
       "      <td>0.070000</td>\n",
       "      <td>1.000000</td>\n",
       "    </tr>\n",
       "    <tr>\n",
       "      <th>50%</th>\n",
       "      <td>6.533970e+05</td>\n",
       "      <td>40.000000</td>\n",
       "      <td>138.000000</td>\n",
       "      <td>5.000000</td>\n",
       "      <td>25.000000</td>\n",
       "      <td>0.150000</td>\n",
       "      <td>2.000000</td>\n",
       "    </tr>\n",
       "    <tr>\n",
       "      <th>75%</th>\n",
       "      <td>9.172400e+05</td>\n",
       "      <td>50.000000</td>\n",
       "      <td>870.250000</td>\n",
       "      <td>17.000000</td>\n",
       "      <td>43.000000</td>\n",
       "      <td>0.520000</td>\n",
       "      <td>3.500000</td>\n",
       "    </tr>\n",
       "    <tr>\n",
       "      <th>max</th>\n",
       "      <td>1.272282e+06</td>\n",
       "      <td>200.000000</td>\n",
       "      <td>101154.000000</td>\n",
       "      <td>7676.000000</td>\n",
       "      <td>362.000000</td>\n",
       "      <td>1.000000</td>\n",
       "      <td>38.000000</td>\n",
       "    </tr>\n",
       "  </tbody>\n",
       "</table>\n",
       "</div>"
      ],
      "text/plain": [
       "          course_id       price  num_subscribers  num_reviews  num_lectures  \\\n",
       "count  6.800000e+02  680.000000       680.000000   680.000000    680.000000   \n",
       "mean   6.386484e+05   49.558824      1245.130882    46.652941     38.316176   \n",
       "std    3.472305e+05   41.187592      5676.381419   337.735677     42.739700   \n",
       "min    1.221400e+04    0.000000         0.000000     0.000000      4.000000   \n",
       "25%    3.383060e+05   20.000000        31.000000     2.000000     14.000000   \n",
       "50%    6.533970e+05   40.000000       138.000000     5.000000     25.000000   \n",
       "75%    9.172400e+05   50.000000       870.250000    17.000000     43.000000   \n",
       "max    1.272282e+06  200.000000    101154.000000  7676.000000    362.000000   \n",
       "\n",
       "           Rating  content_duration  \n",
       "count  680.000000        680.000000  \n",
       "mean     0.308912          2.854387  \n",
       "std      0.303799          3.470463  \n",
       "min      0.000000          0.483333  \n",
       "25%      0.070000          1.000000  \n",
       "50%      0.150000          2.000000  \n",
       "75%      0.520000          3.500000  \n",
       "max      1.000000         38.000000  "
      ]
     },
     "execution_count": 6,
     "metadata": {},
     "output_type": "execute_result"
    }
   ],
   "source": [
    "udemy_df.describe()"
   ]
  },
  {
   "cell_type": "markdown",
   "id": "b3f1759a",
   "metadata": {},
   "source": [
    "**The standard deviation is low which indicate that the value is close to the mean and the mean is the average value of the date set, the mean is relatively low too which shows there is reduction in the performance of the students.**"
   ]
  },
  {
   "cell_type": "markdown",
   "id": "614cc2df",
   "metadata": {},
   "source": [
    "## INFO\n",
    "**--There is no non-null file, the published_timestamp dtype is on object and need to be changed to datetime.**"
   ]
  },
  {
   "cell_type": "code",
   "execution_count": 7,
   "id": "1bd4a91d",
   "metadata": {},
   "outputs": [
    {
     "data": {
      "text/plain": [
       "0"
      ]
     },
     "execution_count": 7,
     "metadata": {},
     "output_type": "execute_result"
    }
   ],
   "source": [
    "udemy_df.duplicated().sum()"
   ]
  },
  {
   "cell_type": "markdown",
   "id": "44e3e081",
   "metadata": {},
   "source": [
    "## There is no duplicated file found."
   ]
  },
  {
   "cell_type": "code",
   "execution_count": 8,
   "id": "f626bb75",
   "metadata": {},
   "outputs": [],
   "source": [
    "udemy_df['Date_time'] = pd.to_datetime(udemy_df['published_timestamp'], format= \"%Y-%m-%dT%H:%M:%SZ\")"
   ]
  },
  {
   "cell_type": "code",
   "execution_count": 9,
   "id": "6f7ab4ec",
   "metadata": {},
   "outputs": [],
   "source": [
    "cat_df = udemy_df.select_dtypes(include=['category','object'])"
   ]
  },
  {
   "cell_type": "code",
   "execution_count": 10,
   "id": "770ea636",
   "metadata": {},
   "outputs": [],
   "source": [
    "cat_columns = [i for i in cat_df.columns]"
   ]
  },
  {
   "cell_type": "code",
   "execution_count": 11,
   "id": "96acbdb8",
   "metadata": {},
   "outputs": [
    {
     "data": {
      "text/plain": [
       "['course_title', 'url', 'level', 'published_timestamp', 'subject']"
      ]
     },
     "execution_count": 11,
     "metadata": {},
     "output_type": "execute_result"
    }
   ],
   "source": [
    "cat_columns"
   ]
  },
  {
   "cell_type": "code",
   "execution_count": 12,
   "id": "dad0db4f",
   "metadata": {},
   "outputs": [
    {
     "name": "stdout",
     "output_type": "stream",
     "text": [
      "course_title\n",
      "Acoustic Blues Guitar Lessons                                   3\n",
      "Aprende a tocar el acordeón de botones                          2\n",
      "Drum Lessons For Beginners                                      2\n",
      "Piano With Willie: Jazz & Gospel Exercises                      1\n",
      "Blues Guitar Lessons: Play Like the Greats - All Levels         1\n",
      "                                                               ..\n",
      "Play Piano 7: Improvise on For All We Know in F Key by Ear      1\n",
      "Play Autumn Leaves' falling notes on piano with no reading!     1\n",
      "Instant Harmonica - play Somewhere Over the Rainbow now!        1\n",
      "Learn to Play Percussion: Beginner to Pro made the Easy Way!    1\n",
      "4 Week Rhythm Mastery                                           1\n",
      "Name: count, Length: 676, dtype: int64\n",
      "url\n",
      "https://www.udemy.com/beginner-electric-guitar-lessons/                             1\n",
      "https://www.udemy.com/piano-with-willie-jazz-gospel-exercises/                      1\n",
      "https://www.udemy.com/guitar-greats-professional-guitar-masterclass/                1\n",
      "https://www.udemy.com/instant-harmonica-play-the-kesh-part-1-easy-and-fun/          1\n",
      "https://www.udemy.com/learn-guitar-the-easy-way-its-faster/                         1\n",
      "                                                                                   ..\n",
      "https://www.udemy.com/play-piano-7-improvise-on-for-all-we-know-in-f-key-by-ear/    1\n",
      "https://www.udemy.com/autumnleaves/                                                 1\n",
      "https://www.udemy.com/instant-harmonica-play-somewhere-over-the-rainbow-now/        1\n",
      "https://www.udemy.com/percussion/                                                   1\n",
      "https://www.udemy.com/4-week-rhythm-mastery/                                        1\n",
      "Name: count, Length: 680, dtype: int64\n",
      "level\n",
      "All Levels            324\n",
      "Beginner Level        266\n",
      "Intermediate Level     78\n",
      "Expert Level           12\n",
      "Name: count, dtype: int64\n",
      "published_timestamp\n",
      "2012-06-15T17:00:33Z    1\n",
      "2016-04-13T06:57:11Z    1\n",
      "2015-11-17T00:22:47Z    1\n",
      "2015-08-17T18:39:16Z    1\n",
      "2013-11-14T17:47:35Z    1\n",
      "                       ..\n",
      "2016-11-10T20:20:30Z    1\n",
      "2014-04-29T01:19:05Z    1\n",
      "2016-01-04T21:22:38Z    1\n",
      "2015-01-16T00:54:01Z    1\n",
      "2017-07-05T16:07:44Z    1\n",
      "Name: count, Length: 680, dtype: int64\n",
      "subject\n",
      "Musical Instruments    680\n",
      "Name: count, dtype: int64\n"
     ]
    }
   ],
   "source": [
    "for i in cat_columns:\n",
    "  print(cat_df[i].value_counts())"
   ]
  },
  {
   "cell_type": "markdown",
   "id": "3c26b0fb",
   "metadata": {},
   "source": [
    "## --- According to the data shown you will notice the number of students reduce drastically as the level of the program increases."
   ]
  },
  {
   "cell_type": "code",
   "execution_count": 13,
   "id": "9db77e5b",
   "metadata": {},
   "outputs": [
    {
     "data": {
      "text/plain": [
       "course_id              0\n",
       "course_title           0\n",
       "url                    0\n",
       "price                  0\n",
       "num_subscribers        0\n",
       "num_reviews            0\n",
       "num_lectures           0\n",
       "level                  0\n",
       "Rating                 0\n",
       "content_duration       0\n",
       "published_timestamp    0\n",
       "subject                0\n",
       "Date_time              0\n",
       "dtype: int64"
      ]
     },
     "execution_count": 13,
     "metadata": {},
     "output_type": "execute_result"
    }
   ],
   "source": [
    "udemy_df.isnull().sum()"
   ]
  },
  {
   "cell_type": "code",
   "execution_count": 14,
   "id": "3b1965a2",
   "metadata": {},
   "outputs": [],
   "source": [
    "udemy_df.to_csv('udemy_cleaned_dataset')"
   ]
  },
  {
   "cell_type": "code",
   "execution_count": 15,
   "id": "b629a45b",
   "metadata": {},
   "outputs": [
    {
     "data": {
      "text/plain": [
       "<Figure size 1400x700 with 0 Axes>"
      ]
     },
     "execution_count": 15,
     "metadata": {},
     "output_type": "execute_result"
    },
    {
     "data": {
      "text/plain": [
       "<Figure size 1400x700 with 0 Axes>"
      ]
     },
     "metadata": {},
     "output_type": "display_data"
    }
   ],
   "source": [
    "import matplotlib.pyplot as plt\n",
    "import seaborn as sb\n",
    "\n",
    "%matplotlib inline\n",
    "plt.figure(figsize=(14,7))"
   ]
  },
  {
   "cell_type": "code",
   "execution_count": 16,
   "id": "2a50fc3c",
   "metadata": {},
   "outputs": [],
   "source": [
    "num = udemy_df.select_dtypes(include = ['int64','float64'])\n",
    "num_columns = [i for i in num.columns]"
   ]
  },
  {
   "cell_type": "code",
   "execution_count": 17,
   "id": "751fe232",
   "metadata": {},
   "outputs": [
    {
     "data": {
      "text/plain": [
       "['course_id',\n",
       " 'price',\n",
       " 'num_subscribers',\n",
       " 'num_reviews',\n",
       " 'num_lectures',\n",
       " 'Rating',\n",
       " 'content_duration']"
      ]
     },
     "execution_count": 17,
     "metadata": {},
     "output_type": "execute_result"
    }
   ],
   "source": [
    "num_columns"
   ]
  },
  {
   "cell_type": "code",
   "execution_count": 18,
   "id": "9ea9b8ec",
   "metadata": {},
   "outputs": [
    {
     "data": {
      "image/png": "[encoded data removed]",
      "text/plain": [
       "<Figure size 640x480 with 1 Axes>"
      ]
     },
     "metadata": {},
     "output_type": "display_data"
    },
    {
     "data": {
      "image/png": "[encoded data removed]",
      "text/plain": [
       "<Figure size 640x480 with 1 Axes>"
      ]
     },
     "metadata": {},
     "output_type": "display_data"
    },
    {
     "data": {
      "image/png": "[encoded data removed]",
      "text/plain": [
       "<Figure size 640x480 with 1 Axes>"
      ]
     },
     "metadata": {},
     "output_type": "display_data"
    },
    {
     "data": {
      "image/png": "[encoded data removed]",
      "text/plain": [
       "<Figure size 640x480 with 1 Axes>"
      ]
     },
     "metadata": {},
     "output_type": "display_data"
    },
    {
     "data": {
      "image/png": "[encoded data removed]",
      "text/plain": [
       "<Figure size 640x480 with 1 Axes>"
      ]
     },
     "metadata": {},
     "output_type": "display_data"
    },
    {
     "data": {
      "image/png": "[encoded data removed]",
      "text/plain": [
       "<Figure size 640x480 with 1 Axes>"
      ]
     },
     "metadata": {},
     "output_type": "display_data"
    },
    {
     "data": {
      "image/png": "[encoded data removed]",
      "text/plain": [
       "<Figure size 640x480 with 1 Axes>"
      ]
     },
     "metadata": {},
     "output_type": "display_data"
    }
   ],
   "source": [
    "for column in num_columns:\n",
    "  plt.hist(udemy_df[column], edgecolor='black')\n",
    "  plt.xlabel(column)\n",
    "  plt.ylabel('frequency')\n",
    "  plt.show()"
   ]
  },
  {
   "cell_type": "code",
   "execution_count": 19,
   "id": "5c43d53a",
   "metadata": {},
   "outputs": [
    {
     "name": "stdout",
     "output_type": "stream",
     "text": [
      "stats for course_id\n",
      "Total: 434280946\n",
      "Average: 638648.45\n",
      "-----------\n",
      "stats for price\n",
      "Total: 33700\n",
      "Average: 49.55882352941177\n",
      "-----------\n",
      "stats for num_subscribers\n",
      "Total: 846689\n",
      "Average: 1245.1308823529412\n",
      "-----------\n",
      "stats for num_reviews\n",
      "Total: 31724\n",
      "Average: 46.65294117647059\n",
      "-----------\n",
      "stats for num_lectures\n",
      "Total: 26055\n",
      "Average: 38.31617647058823\n",
      "-----------\n",
      "stats for Rating\n",
      "Total: 210.06\n",
      "Average: 0.30891176470588233\n",
      "-----------\n",
      "stats for content_duration\n",
      "Total: 1940.9833333331999\n",
      "Average: 2.8543872549017646\n",
      "-----------\n"
     ]
    }
   ],
   "source": [
    "for col in num_columns:\n",
    "  print(f'stats for {col}')\n",
    "  print(f'Total: {udemy_df[col].sum()}')\n",
    "  print(f'Average: {udemy_df[col].mean()}')\n",
    "  print('-----------')"
   ]
  },
  {
   "cell_type": "code",
   "execution_count": 20,
   "id": "0ed7cb1b",
   "metadata": {},
   "outputs": [
    {
     "data": {
      "image/png": "[encoded data removed]",
      "text/plain": [
       "<Figure size 640x480 with 1 Axes>"
      ]
     },
     "metadata": {},
     "output_type": "display_data"
    }
   ],
   "source": [
    "plt.hist(udemy_df['price'])\n",
    "plt.title('destribution of course price')\n",
    "plt.ylabel('frequency')\n",
    "plt.xlabel('price')\n",
    "plt.show()"
   ]
  },
  {
   "cell_type": "code",
   "execution_count": 21,
   "id": "b5fa5c2c",
   "metadata": {},
   "outputs": [],
   "source": [
    "udemy_df_price_comparison = udemy_df.groupby(by='level')[['price']].mean()"
   ]
  },
  {
   "cell_type": "code",
   "execution_count": 22,
   "id": "8462ba9e",
   "metadata": {},
   "outputs": [
    {
     "data": {
      "text/html": [
       "<div>\n",
       "<style scoped>\n",
       "    .dataframe tbody tr th:only-of-type {\n",
       "        vertical-align: middle;\n",
       "    }\n",
       "\n",
       "    .dataframe tbody tr th {\n",
       "        vertical-align: top;\n",
       "    }\n",
       "\n",
       "    .dataframe thead th {\n",
       "        text-align: right;\n",
       "    }\n",
       "</style>\n",
       "<table border=\"1\" class=\"dataframe\">\n",
       "  <thead>\n",
       "    <tr style=\"text-align: right;\">\n",
       "      <th></th>\n",
       "      <th>price</th>\n",
       "    </tr>\n",
       "    <tr>\n",
       "      <th>level</th>\n",
       "      <th></th>\n",
       "    </tr>\n",
       "  </thead>\n",
       "  <tbody>\n",
       "    <tr>\n",
       "      <th>All Levels</th>\n",
       "      <td>49.583333</td>\n",
       "    </tr>\n",
       "    <tr>\n",
       "      <th>Beginner Level</th>\n",
       "      <td>48.984962</td>\n",
       "    </tr>\n",
       "    <tr>\n",
       "      <th>Expert Level</th>\n",
       "      <td>48.333333</td>\n",
       "    </tr>\n",
       "    <tr>\n",
       "      <th>Intermediate Level</th>\n",
       "      <td>51.602564</td>\n",
       "    </tr>\n",
       "  </tbody>\n",
       "</table>\n",
       "</div>"
      ],
      "text/plain": [
       "                        price\n",
       "level                        \n",
       "All Levels          49.583333\n",
       "Beginner Level      48.984962\n",
       "Expert Level        48.333333\n",
       "Intermediate Level  51.602564"
      ]
     },
     "execution_count": 22,
     "metadata": {},
     "output_type": "execute_result"
    }
   ],
   "source": [
    "udemy_df_price_comparison"
   ]
  },
  {
   "cell_type": "code",
   "execution_count": 23,
   "id": "97591d99",
   "metadata": {},
   "outputs": [
    {
     "data": {
      "image/png": "[encoded data removed]",
      "text/plain": [
       "<Figure size 640x480 with 1 Axes>"
      ]
     },
     "metadata": {},
     "output_type": "display_data"
    }
   ],
   "source": [
    "sb.countplot(x='level',data=udemy_df)\n",
    "plt.title('count of level')\n",
    "plt.show()"
   ]
  },
  {
   "cell_type": "markdown",
   "id": "5becf943",
   "metadata": {},
   "source": [
    "# SUMMARY \n",
    "**There has been a drastic reduction of students in the program from the beginning levely to down to the expert level which shows maybe the price is too much for the service rendered because the ratings are too low for the amount of students that attend the program.**"
   ]
  },
  {
   "cell_type": "code",
   "execution_count": null,
   "id": "34938dba",
   "metadata": {},
   "outputs": [],
   "source": []
  }
 ],
 "metadata": {
  "kernelspec": {
   "display_name": "Python 3 (ipykernel)",
   "language": "python",
   "name": "python3"
  },
  "language_info": {
   "codemirror_mode": {
    "name": "ipython",
    "version": 3
   },
   "file_extension": ".py",
   "mimetype": "text/x-python",
   "name": "python",
   "nbconvert_exporter": "python",
   "pygments_lexer": "ipython3",
   "version": "3.11.5"
  }
 },
 "nbformat": 4,
 "nbformat_minor": 5
}
